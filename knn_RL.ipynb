{
 "cells": [
  {
   "cell_type": "markdown",
   "id": "1d5c23d5",
   "metadata": {},
   "source": [
    "# Questionário 4\n",
    "\n",
    "### Leitura de Dados\n",
    "\n",
    "Hugo de Oliveira Borges  nUSP: $11915202$"
   ]
  },
  {
   "cell_type": "markdown",
   "id": "eab90c60",
   "metadata": {},
   "source": [
    "1 - Considere os dados obtidos a partir do código a seguir. Encontre o melhor valor de k e a\n",
    "métrica de distância no algoritmo knn. A classe a ser considerada está na primeira (fruit_label) ou\n",
    "segunda coluna (fruit_name). A que não for usada, precisa ser removida. Notem que os atributos\n",
    "nominais precisam ser convertidos em numéricos usando OneHotEncoder.\n",
    "\n",
    "Dicas:<br> Use vm = ['euclidean', 'manhattan', 'chebyshev', 'minkowski']<br>\n",
    "Não precisa usar validação cruzada, use diretamente o treinamento e teste uma vez."
   ]
  },
  {
   "cell_type": "code",
   "execution_count": 342,
   "id": "6ab44f5b",
   "metadata": {},
   "outputs": [],
   "source": [
    "#pip install mlxtend\n",
    "from mlxtend.plotting import plot_decision_regions\n",
    "import numpy as np\n",
    "import matplotlib.pyplot as plt\n",
    "from sklearn import datasets\n",
    "from sklearn.neighbors import KNeighborsClassifier\n",
    "import sklearn.datasets as skdata\n",
    "from matplotlib import pyplot\n",
    "from pandas import DataFrame\n",
    "from sklearn.preprocessing import OneHotEncoder\n",
    "import random\n",
    "import pandas as pd\n",
    "from sklearn.model_selection import train_test_split"
   ]
  },
  {
   "cell_type": "code",
   "execution_count": 343,
   "id": "e72be283",
   "metadata": {},
   "outputs": [
    {
     "name": "stdout",
     "output_type": "stream",
     "text": [
      "Matriz de atributos: Número de linhas: 59  colunas:  7\n"
     ]
    }
   ],
   "source": [
    "\n",
    "random.seed(42) # define the seed (important to reproduce the results)\n",
    "\n",
    "# URL do CSV \"raw\" no GitHub\n",
    "url = (\n",
    " \"https://raw.githubusercontent.com/rocksaint/fruit-data-with-colours/\"\n",
    " \"master/fruit_data_with_colours.csv\"\n",
    ")\n",
    "data = pd.read_csv(url)\n",
    "nrow, ncol = data.shape\n",
    "print(\"Matriz de atributos: Número de linhas:\", nrow, \" colunas: \", ncol)\n",
    "attributes = list(data.columns)\n",
    "#data.head(10)"
   ]
  },
  {
   "cell_type": "code",
   "execution_count": 344,
   "id": "e0a01f07",
   "metadata": {},
   "outputs": [],
   "source": [
    "# Converter as colunas para variáveis categóricas\n",
    "#https://www-geeksforgeeks-org.translate.goog/machine-learning/ml-one-hot-encoding/?_x_tr_sl=en&_x_tr_tl=pt&_x_tr_hl=pt&_x_tr_pto=tc\n",
    "data[\"fruit_label\"] = data[\"fruit_label\"].astype(\"category\")\n",
    "data[\"fruit_name\"] = data[\"fruit_name\"].astype(\"category\")\n",
    "data[\"fruit_subtype\"] = data[\"fruit_subtype\"].astype(\"category\")\n",
    "data[\"fruit_label\"] = data[\"fruit_label\"].cat.codes\n",
    "data[\"fruit_name\"] = data[\"fruit_name\"].cat.codes\n",
    "data[\"fruit_subtype\"] = data[\"fruit_subtype\"].cat.codes\n",
    "data.head(10)\n",
    "\n",
    "# Dropar fruit_name\n",
    "data = data.drop(columns=[\"fruit_label\"])\n",
    "#data.head(10)"
   ]
  },
  {
   "cell_type": "code",
   "execution_count": 345,
   "id": "72c85894",
   "metadata": {},
   "outputs": [],
   "source": [
    "metrics = ['euclidean', 'manhattan', 'chebyshev', 'minkowski']"
   ]
  },
  {
   "cell_type": "code",
   "execution_count": 346,
   "id": "b3b84da4",
   "metadata": {},
   "outputs": [
    {
     "name": "stdout",
     "output_type": "stream",
     "text": [
      "O melhor k é: 5\n"
     ]
    }
   ],
   "source": [
    "# Separar em atributos (X) e rótulo (y)\n",
    "X = data.drop(columns=[\"fruit_name\"])\n",
    "y = data[\"fruit_name\"]\n",
    "\n",
    "# Dividir em treino e teste\n",
    "X_train, X_test, y_train, y_test = train_test_split(X, y, test_size=0.3, random_state=42, stratify=y)\n",
    "\n",
    "# Treinar o modelo KNN\n",
    "knn = KNeighborsClassifier(n_neighbors=5)\n",
    "knn.fit(X_train, y_train)\n",
    "\n",
    "# O melhor k\n",
    "print(\"O melhor k é:\", knn.n_neighbors)\n"
   ]
  },
  {
   "cell_type": "code",
   "execution_count": 347,
   "id": "2b66ec39",
   "metadata": {},
   "outputs": [
    {
     "name": "stdout",
     "output_type": "stream",
     "text": [
      "Métrica: euclidean, Acurácia: 66.67%\n",
      "Métrica: manhattan, Acurácia: 66.67%\n",
      "Métrica: chebyshev, Acurácia: 66.67%\n",
      "Métrica: minkowski, Acurácia: 66.67%\n"
     ]
    }
   ],
   "source": [
    "# A métrica de distância no knn\n",
    "for metric in metrics:\n",
    "    knn = KNeighborsClassifier(n_neighbors=5, metric=metric)\n",
    "    knn.fit(X_train, y_train)\n",
    "    print(\"Métrica: {}, Acurácia: {:.2f}%\".format(metric, knn.score(X_test, y_test) * 100))"
   ]
  },
  {
   "cell_type": "markdown",
   "id": "01ebff51",
   "metadata": {},
   "source": [
    "2 - Faça a classificação usando regressão logística"
   ]
  },
  {
   "cell_type": "code",
   "execution_count": 348,
   "id": "f2eb63f7",
   "metadata": {},
   "outputs": [],
   "source": [
    "import numpy as np\n",
    "import matplotlib.pyplot as plt\n",
    "from sklearn import linear_model\n",
    "from scipy.special import expit"
   ]
  },
  {
   "cell_type": "code",
   "execution_count": null,
   "id": "7a5b2f41",
   "metadata": {},
   "outputs": [],
   "source": [
    "random.seed(42) # define the seed (important to reproduce the results)\n",
    "\n",
    "# URL do CSV \"raw\" no GitHub\n",
    "url = (\n",
    " \"https://raw.githubusercontent.com/rocksaint/fruit-data-with-colours/\"\n",
    " \"master/fruit_data_with_colours.csv\"\n",
    ")\n",
    "data = pd.read_csv(url)\n",
    "nrow, ncol = data.shape\n",
    "attributes = list(data.columns)\n",
    "\n",
    "# Tratando de outra maneira para aprender\n",
    "X = pd.get_dummies(X)"
   ]
  },
  {
   "cell_type": "code",
   "execution_count": 350,
   "id": "29afab62",
   "metadata": {},
   "outputs": [
    {
     "name": "stdout",
     "output_type": "stream",
     "text": [
      "Acurácia:  0.8541666666666666\n"
     ]
    }
   ],
   "source": [
    "from sklearn.preprocessing import StandardScaler\n",
    "\n",
    "scaler = StandardScaler()\n",
    "X = scaler.fit_transform(X)\n",
    "\n",
    "from sklearn.model_selection import train_test_split\n",
    "\n",
    "p = 0.8\n",
    "x_train, x_test, y_train, y_test = train_test_split(X, y, test_size = p, random_state = 42)\n",
    "\n",
    "from sklearn.linear_model import LogisticRegression\n",
    "\n",
    "#FutureWarning: 'multi_class' was deprecated in version 1.5 and will be removed in 1.7. From then on, it will always use 'multinomial'. Leave it to its default value to avoid this warning.\n",
    "model = LogisticRegression( solver = 'lbfgs', max_iter=1000)\n",
    "model.fit(x_train, y_train)\n",
    "\n",
    "y_pred = model.predict(x_test)\n",
    "print('Acurácia: ', model.score(x_test, y_test))"
   ]
  },
  {
   "cell_type": "markdown",
   "id": "f2401d16",
   "metadata": {},
   "source": [
    "##### Não consegui pltoar a região, imagino que não de por conta que precisa ser 2D, porém queria entender melhor."
   ]
  }
 ],
 "metadata": {
  "kernelspec": {
   "display_name": "Python 3",
   "language": "python",
   "name": "python3"
  },
  "language_info": {
   "codemirror_mode": {
    "name": "ipython",
    "version": 3
   },
   "file_extension": ".py",
   "mimetype": "text/x-python",
   "name": "python",
   "nbconvert_exporter": "python",
   "pygments_lexer": "ipython3",
   "version": "3.13.0"
  }
 },
 "nbformat": 4,
 "nbformat_minor": 5
}
